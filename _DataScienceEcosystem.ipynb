{
 "cells": [
  {
   "cell_type": "markdown",
   "id": "a1be623e",
   "metadata": {},
   "source": [
    "# Data Science Tools and Ecosystem"
   ]
  },
  {
   "cell_type": "markdown",
   "id": "bae71c5e",
   "metadata": {},
   "source": [
    "## Author\n",
    "Kaniganti Priyanka Saraswathi"
   ]
  },
  {
   "cell_type": "markdown",
   "id": "705fb8bb",
   "metadata": {},
   "source": [
    "In this notebook, Data Science Tools and Ecosystem are summarized."
   ]
  },
  {
   "cell_type": "markdown",
   "id": "f562c1bc",
   "metadata": {},
   "source": [
    "**Objectives:**\n",
    "\n",
    "- List popular languages for Data Science\n",
    "- Explore various data science tools and environments\n",
    "- Introduce arithmetic expressions and calculations in Python\n",
    "- Discuss the importance of version control with Git and GitHub\n",
    "- Demonstrate basic Markdown formatting in Jupyter Notebook\n"
   ]
  },
  {
   "cell_type": "markdown",
   "id": "1fb64bc9",
   "metadata": {},
   "source": [
    "Some of the popular languages that Data Scientists use are:\n",
    "1. Python\n",
    "2. R\n",
    "3. SQL\n",
    "4. Java\n",
    "5. C\n",
    "6. C++"
   ]
  },
  {
   "cell_type": "markdown",
   "id": "71b5661e",
   "metadata": {},
   "source": [
    "Some of the commonly used libraries used by Data Scientists include:\n",
    " 1. Pandas\n",
    " 2. Numpy\n",
    " 3. Matplotlib\n",
    " 4. Seaborn\n",
    " 5. Scikit-learn\n",
    " 6. Keras"
   ]
  },
  {
   "cell_type": "markdown",
   "id": "16664bf5",
   "metadata": {},
   "source": [
    "| Data Science Tools |\n",
    "|--------------|\n",
    "| Jupyter Notebook   |\n",
    "| RStudio            |\n",
    "| Apache Zeppelin    |\n"
   ]
  },
  {
   "cell_type": "markdown",
   "id": "d9b9004d",
   "metadata": {},
   "source": [
    "### Below are a few examples of evaluating arithmetic expressions in Python\n",
    "\n",
    "1. Addition:\n",
    "```python\n",
    "a = 5\n",
    "b = 3\n",
    "result = a + b\n",
    "print(result)  # Output: 8\n",
    "```\n",
    "\n",
    "2. Subtraction:\n",
    "```python\n",
    "a = 10\n",
    "b = 7\n",
    "result = a - b\n",
    "print(result)  # Output: 3\n",
    "```\n",
    "\n",
    "3. Multiplication:\n",
    "```python\n",
    "a = 4\n",
    "b = 6\n",
    "result = a * b\n",
    "print(result)  # Output: 24\n",
    "```\n",
    "4. Division:\n",
    "```python\n",
    "a = 20\n",
    "b = 5\n",
    "result = a / b\n",
    "print(result)  # Output: 4.0\n",
    "```\n",
    "\n",
    "\n"
   ]
  },
  {
   "cell_type": "code",
   "execution_count": 1,
   "id": "a0072a8a",
   "metadata": {},
   "outputs": [
    {
     "data": {
      "text/plain": [
       "17"
      ]
     },
     "execution_count": 1,
     "metadata": {},
     "output_type": "execute_result"
    }
   ],
   "source": [
    "#This a simple arithmetic expression to mutiply then add integers\n",
    "(3*4)+5"
   ]
  },
  {
   "cell_type": "code",
   "execution_count": 2,
   "id": "417e72f5",
   "metadata": {},
   "outputs": [
    {
     "name": "stdout",
     "output_type": "stream",
     "text": [
      "By converting 200 minutes into hours we get 3.3333333333333335\n"
     ]
    }
   ],
   "source": [
    "#This will convert 200 minutes to hours by diving by 60\n",
    "minutes=200\n",
    "hours=200/60\n",
    "print('By converting 200 minutes into hours we get',hours)"
   ]
  },
  {
   "cell_type": "code",
   "execution_count": null,
   "id": "e8f6fc3c",
   "metadata": {},
   "outputs": [],
   "source": []
  }
 ],
 "metadata": {
  "kernelspec": {
   "display_name": "Python 3 (ipykernel)",
   "language": "python",
   "name": "python3"
  },
  "language_info": {
   "codemirror_mode": {
    "name": "ipython",
    "version": 3
   },
   "file_extension": ".py",
   "mimetype": "text/x-python",
   "name": "python",
   "nbconvert_exporter": "python",
   "pygments_lexer": "ipython3",
   "version": "3.9.7"
  }
 },
 "nbformat": 4,
 "nbformat_minor": 5
}
